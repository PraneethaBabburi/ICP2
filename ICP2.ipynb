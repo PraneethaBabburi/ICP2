{
  "nbformat": 4,
  "nbformat_minor": 0,
  "metadata": {
    "colab": {
      "provenance": []
    },
    "kernelspec": {
      "name": "python3",
      "display_name": "Python 3"
    },
    "language_info": {
      "name": "python"
    }
  },
  "cells": [
    {
      "cell_type": "code",
      "execution_count": 1,
      "metadata": {
        "colab": {
          "base_uri": "https://localhost:8080/"
        },
        "id": "ebS0ucVrUqdQ",
        "outputId": "cbdcc179-d772-4c79-9395-e743383433fe"
      },
      "outputs": [
        {
          "output_type": "stream",
          "name": "stdout",
          "text": [
            "\n",
            "\n",
            "* \n",
            "\n",
            "* * \n",
            "\n",
            "* * * \n",
            "\n",
            "* * * * \n",
            "\n",
            "* * * * * \n",
            "\n",
            "* * * * \n",
            "\n",
            "* * * \n",
            "\n",
            "* * \n",
            "\n",
            "* "
          ]
        }
      ],
      "source": [
        "#question 1\n",
        "for j in range(1,6):\n",
        "  print('\\n')\n",
        "  for i in range(1,j+1):\n",
        "    print(\"*\" ,end=\" \")\n",
        "    i=i-1\n",
        "for k in range(j-1,0,-1):\n",
        "  print('\\n')\n",
        "  for i in range(1,k+1):\n",
        "    print(\"*\" ,end=\" \")\n",
        "    i=i-1\n",
        "\n",
        ""
      ]
    },
    {
      "cell_type": "code",
      "source": [
        "'''question 2 Use looping to output the elements from a provided list present at odd indexes.\n",
        "my_list = [10, 20, 30, 40, 50, 60, 70, 80, 90, 100]'''\n",
        "\n",
        "my_list = [10, 20, 30, 40, 50, 60, 70, 80, 90, 100]\n",
        "for i in range(1,len(my_list),2):\n",
        "  print(my_list[i])"
      ],
      "metadata": {
        "colab": {
          "base_uri": "https://localhost:8080/"
        },
        "id": "IqGn8MRkYNvQ",
        "outputId": "09b16d25-8157-42a2-d8ff-99e672ea98c0"
      },
      "execution_count": 2,
      "outputs": [
        {
          "output_type": "stream",
          "name": "stdout",
          "text": [
            "20\n",
            "40\n",
            "60\n",
            "80\n",
            "100\n"
          ]
        }
      ]
    },
    {
      "cell_type": "code",
      "source": [
        "'''question 3 Write a code that appends the type of elements from a given list.\n",
        "Input\n",
        "x = [23, ‘Python’, 23.98]\n",
        "Expected output\n",
        "[23, 'Python', 23.98]\n",
        "[<class 'int'>, <class 'str'>, <class 'float'>]\n",
        "'''\n",
        "x = [23, 'Python', 23.98]\n",
        "type_list=[]\n",
        "for i in x:\n",
        "  type_list.append(type(i))\n",
        "print(x)\n",
        "print(type_list)"
      ],
      "metadata": {
        "colab": {
          "base_uri": "https://localhost:8080/"
        },
        "id": "3wxVyMXcZ7gv",
        "outputId": "34ecd723-5ff5-4cc3-d99a-29e34d8f9f44"
      },
      "execution_count": 2,
      "outputs": [
        {
          "output_type": "stream",
          "name": "stdout",
          "text": [
            "[23, 'Python', 23.98]\n",
            "[<class 'int'>, <class 'str'>, <class 'float'>]\n"
          ]
        }
      ]
    },
    {
      "cell_type": "code",
      "source": [
        "'''question 4 Write a function that takes a list and returns a new list with unique items of the first list.\n",
        "Sample List: [1,2,3,3,3,3,4,5]\n",
        "Unique List: [1, 2, 3, 4, 5]'''\n",
        "n=input('enter the list ')\n",
        "sample_list=[]\n",
        "for i in n.split(' '): sample_list.append(i)\n",
        "unique_list=list(set(sample_list))\n",
        "print(\"sample list: \", sample_list)\n",
        "print(\"unique list: \", unique_list)"
      ],
      "metadata": {
        "colab": {
          "base_uri": "https://localhost:8080/"
        },
        "id": "Fce-HSSSbMx5",
        "outputId": "65573772-b60a-4099-fb14-29aa57d02d99"
      },
      "execution_count": 3,
      "outputs": [
        {
          "output_type": "stream",
          "name": "stdout",
          "text": [
            "enter the list 1 2 3 3 3 3 4 5\n",
            "sample list:  ['1', '2', '3', '3', '3', '3', '4', '5']\n",
            "unique list:  ['5', '2', '4', '3', '1']\n"
          ]
        }
      ]
    },
    {
      "cell_type": "code",
      "source": [
        "'''question 5 Write a function that accepts a string and calculate the number of upper-case letters and lower-case\n",
        "letters.\n",
        "Input String: 'The quick Brow Fox'\n",
        "Expected Output:\n",
        "No. of Upper-case characters: 3\n",
        "No. of Lower-case Characters: 12'''\n",
        "input_string=input('enter the input string: ')\n",
        "upper=0\n",
        "lower=0\n",
        "for i in input_string:\n",
        "  if i.isupper():\n",
        "    upper+=1\n",
        "  elif i.islower():\n",
        "    lower+=1\n",
        "print('No. of Upper-case characters: ', upper)\n",
        "print('No. of Lower-case Characters: ', lower)"
      ],
      "metadata": {
        "colab": {
          "base_uri": "https://localhost:8080/"
        },
        "id": "TNx2j1OJc0Na",
        "outputId": "4cd2280d-f122-4964-c7b3-17b459ad5860"
      },
      "execution_count": 8,
      "outputs": [
        {
          "output_type": "stream",
          "name": "stdout",
          "text": [
            "enter the input string: The quick Brow Fox\n",
            "No. of Upper-case characters:  3\n",
            "No. of Lower-case Characters:  12\n"
          ]
        }
      ]
    }
  ]
}